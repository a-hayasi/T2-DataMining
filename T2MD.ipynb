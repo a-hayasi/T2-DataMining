{
 "cells": [
  {
   "cell_type": "markdown",
   "metadata": {},
   "source": [
    "#  As Criptomoedas são moedas digitais descentralizadas: moedas por serem utilizadas para transações monetárias, digitais por não serem físicas e circularem em redes digitais, descentralizadas pois não precisam de mediadores como bancos ou governos (entidade central) para validar suas transações.\n",
    "\n",
    "# Em 1998 surgiram ideias para moedas digitais como o B-money e Bit Gold. Porém a primeira moeda digital descentralizada foi criada em 2009 por Satoshi Nakamoto, chamada de BitCoin. Criada para ser uma carteira digital, onde cada transação feita é guardado o valor, a data, o vendedor e o comprador.\n",
    "\n",
    "# Inicialmente possuía um apelo mais ideológico que prático, principalmente para libertários por ser uma moeda descentralizada. Começou a ser usada em massa para comércio ilegal em mercados negros online, porém eventualmente começou a ser utilizada para poupança.\n",
    "\n",
    "# Países com problemas de cambío ou crises economícas, incentivaram o uso do BitCoin para ser utilizado como forma de poupança, elevando exponencialmente o valor da moeda. Bitcoins comprados por 50 doláres em 2010 se valorizaram para 40 milhões de doláres em 2017, se tornando uma criptomoeda extremamente atraente para investimentos em poupança.\n",
    "\n",
    "\n",
    "\n"
   ]
  }
 ],
 "metadata": {
  "kernelspec": {
   "display_name": "Python 3",
   "language": "python",
   "name": "python3"
  },
  "language_info": {
   "codemirror_mode": {
    "name": "ipython",
    "version": 3
   },
   "file_extension": ".py",
   "mimetype": "text/x-python",
   "name": "python",
   "nbconvert_exporter": "python",
   "pygments_lexer": "ipython3",
   "version": "3.7.0"
  }
 },
 "nbformat": 4,
 "nbformat_minor": 2
}
