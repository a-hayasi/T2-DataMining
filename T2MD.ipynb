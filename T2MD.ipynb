{
 "cells": [
  {
   "cell_type": "markdown",
   "metadata": {},
   "source": [
    "#  As Criptomoedas são moedas digitais descentralizadas: moedas por serem utilizadas para transações monetárias, digitais por não serem físicas e circularem em redes digitais, descentralizadas pois não precisam de mediadores como bancos ou governos (entidade central) para validar suas transações.\n",
    "\n",
    "# Em 1998 surgiram ideias para moedas digitais como o B-money e Bit Gold. Porém a primeira moeda digital descentralizada foi criada em 2009 por Satoshi Nakamoto, chamada de Bitcoin. Criada para ser uma carteira digital, onde cada transação feita é guardado o valor, a data, o vendedor e o comprador.\n",
    "\n",
    "# Inicialmente possuía um apelo mais ideológico que prático, principalmente para libertários por ser uma moeda descentralizada. Começou a ser usada em massa para comércio ilegal em mercados negros online, porém eventualmente começou a ser utilizada para poupança.\n",
    "\n",
    "# Países com problemas de cambío ou crises economícas, incentivaram o uso do Bitcoin para ser utilizado como forma de poupança, elevando exponencialmente o valor da moeda. Bitcoins comprados por 50 doláres em 2010 se valorizaram para 40 milhões de doláres em 2017, se tornando uma criptomoeda extremamente atraente para investimentos em poupança.\n",
    "\n",
    "# Em 2011, surgiram mais de 900 tipos de criptomoedas, conhecidas como AltCoins, para satisfazer outras necessidades que a Bitcoin se tornara inapropriada, como por exemplo transações rápidas e leves.\n",
    "\n",
    "# Ethereum é a segunda criptomoeda com maior capital, a característica marcante dessa moeda é que ela é usada não somente para transações como também para execução de código distribuído ou aplicação na rede Ethereum. Surgiu em 2015.\n",
    "\n",
    "# A terceira criptomoeda com maior capital é a XRP utilizada para o protocolo de pagamento Ripple, usada principalmente por bancos por sua segurança e livro-razão distribuídos (informação sobre a transação). Permite uso de Tokens para a troca para outras criptomoedas, moedas e milhas de voo e entre outros. Surgiu em 2012.\n",
    "\n",
    "# Outra criptomoeda interessante é o Bitcoin Cash, criado como fork do Bitcoin portanto duplicando a reserva de quem tinha Bitcoin e renomeando para Bitcoin Cash. Seu fork foi criado para aumentar o tamanho do Block e o número de transações por bloco. Surgiu em 2017.\n",
    "\n",
    "# Por último a Litecoin, é uma criptomoeda criada para transições mais rápidas que o Bitcoin porém são mais custosas para serem produziadas. Surgiu em 2011.\n",
    "\n",
    "# A capitalização dessas cinco criptomoedas (Bitcoin, Ethereum, XRP, Bitcoin Cash, Litecoin) serão estudadas nesse trabalho. Será importante saber também das bolhas ocorridas na história das criptomoedas.\n",
    "\n",
    "# No começo de 2013, uma cambiadora de criptomoedas chamada Mt. Gox era a principal responsável por fazer as transações em BitCoins, gerenciando cerca de 70% das transações de Bitcoins ao redor do mundo. Porém em 2014 a Mt. Gox suspenderam o saque de Bitcoins devido a um bug encontrado que permitiu o roubo de criptomoedas sem a detecção da rede. O preço do Bitcoin decaiu 36% durante esse período. \n",
    "\n",
    "# No final de 2013 também ocorreu uma outra bolha devido a popularidade ganha do Bitcoin na China, aumentando consideravelmente a quantidade de investidores e mineradores. Porém o governo  chinês proibiu o comércio de criptomoedas no país por serem moedas descentralizadas.\n",
    "\n",
    "# A última bolha ocorreu em 2017, com a desvalorização da moeda chinesa (Yuan) e o governo retirando a proibição devido a pressão bancária. Porém com a popularização de outras AltCoins, o investimento em BitCoins não parecia tão interessante mais para o mercado chinês, provacando a bolha.\n",
    "\n",
    "\n",
    "\n"
   ]
  }
 ],
 "metadata": {
  "kernelspec": {
   "display_name": "Python 3",
   "language": "python",
   "name": "python3"
  },
  "language_info": {
   "codemirror_mode": {
    "name": "ipython",
    "version": 3
   },
   "file_extension": ".py",
   "mimetype": "text/x-python",
   "name": "python",
   "nbconvert_exporter": "python",
   "pygments_lexer": "ipython3",
   "version": "3.7.0"
  }
 },
 "nbformat": 4,
 "nbformat_minor": 2
}
